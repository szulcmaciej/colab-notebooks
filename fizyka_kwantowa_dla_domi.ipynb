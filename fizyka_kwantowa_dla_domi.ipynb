{
  "nbformat": 4,
  "nbformat_minor": 0,
  "metadata": {
    "colab": {
      "name": "fizyka_kwantowa_yolo.ipynb",
      "provenance": [],
      "authorship_tag": "ABX9TyNeCG8RLMpNs7AWnJr7UF1I",
      "include_colab_link": true
    },
    "kernelspec": {
      "name": "python3",
      "display_name": "Python 3"
    }
  },
  "cells": [
    {
      "cell_type": "markdown",
      "metadata": {
        "id": "view-in-github",
        "colab_type": "text"
      },
      "source": [
        "<a href=\"https://colab.research.google.com/github/szulcmaciej/colab-notebooks/blob/main/fizyka_kwantowa_dla_domi.ipynb\" target=\"_parent\"><img src=\"https://colab.research.google.com/assets/colab-badge.svg\" alt=\"Open In Colab\"/></a>"
      ]
    },
    {
      "cell_type": "code",
      "metadata": {
        "id": "RPelXWvITt16"
      },
      "source": [
        "import pandas as pd\n",
        "import numpy as np"
      ],
      "execution_count": null,
      "outputs": []
    },
    {
      "cell_type": "code",
      "metadata": {
        "id": "Md_hX_6QUHwZ",
        "colab": {
          "base_uri": "https://localhost:8080/"
        },
        "outputId": "e92daa2c-2353-45a1-b0b8-2ab1516faa21"
      },
      "source": [
        "!cat MnPS3.txt"
      ],
      "execution_count": null,
      "outputs": [
        {
          "output_type": "stream",
          "text": [
            "#wektory sieci: 1 linia- wektor a1,2 linia- wektor a2, 3 linia wektor a3\n",
            "     3.054000000 -5.289683166  0.000000000   \n",
            "     3.054000000  5.289683166  0.000000000     \n",
            "     0.000000000  0.000000000 20.075760688    \n",
            "#atom typ, polozenia atomow x,y,z, nastepnie 3 skladowe spinu\n",
            "Mn\t3.053990\t-1.763220\t2.091280\t0.000000\t0.000000\t4.610000\n",
            "Mn\t3.053990\t1.763220\t2.091170\t0.000000\t0.000000\t-4.610000\n",
            "P\t3.053990\t-5.289680\t3.201630\t0.000000\t0.000000\t0.500000\n",
            "P\t6.107980\t0.000000\t0.981170\t0.000000\t0.000000\t0.500000\n",
            "S\t5.124230\t-1.703850\t0.438810\t0.000000\t0.000000\t0.200000\n",
            "S\t2.070300\t-3.585810\t0.438800\t0.000000\t0.000000\t-0.200000\n",
            "S\t0.983780\t1.703910\t3.743860\t0.000000\t0.000000\t0.100000\n",
            "S\t4.037720\t3.585750\t3.743870\t0.000000\t0.000000\t0.200000\n",
            "S\t4.140480\t0.000040\t3.743880\t0.000000\t0.000000\t0.100000\n",
            "S\t1.967420\t-0.000040\t0.438790\t0.000000\t0.000000\t0.620000"
          ],
          "name": "stdout"
        }
      ]
    },
    {
      "cell_type": "code",
      "metadata": {
        "id": "svFdfMnnUQii"
      },
      "source": [
        "atoms = pd.read_csv('MnPS3.txt', sep='\\t', skiprows=5, nrows=10, header=None)\n",
        "base = pd.read_csv('MnPS3.txt', skiprows=26, nrows=3, header=None)\n",
        "base[[0, 1, 2]] = base[0].str.split(expand=True)"
      ],
      "execution_count": null,
      "outputs": []
    },
    {
      "cell_type": "code",
      "metadata": {
        "id": "o10yGgAXWhN9",
        "colab": {
          "base_uri": "https://localhost:8080/",
          "height": 359
        },
        "outputId": "f5271b4e-3fb2-4733-f877-e1fd9d0648f5"
      },
      "source": [
        "atoms"
      ],
      "execution_count": null,
      "outputs": [
        {
          "output_type": "execute_result",
          "data": {
            "text/html": [
              "<div>\n",
              "<style scoped>\n",
              "    .dataframe tbody tr th:only-of-type {\n",
              "        vertical-align: middle;\n",
              "    }\n",
              "\n",
              "    .dataframe tbody tr th {\n",
              "        vertical-align: top;\n",
              "    }\n",
              "\n",
              "    .dataframe thead th {\n",
              "        text-align: right;\n",
              "    }\n",
              "</style>\n",
              "<table border=\"1\" class=\"dataframe\">\n",
              "  <thead>\n",
              "    <tr style=\"text-align: right;\">\n",
              "      <th></th>\n",
              "      <th>0</th>\n",
              "      <th>1</th>\n",
              "      <th>2</th>\n",
              "      <th>3</th>\n",
              "      <th>4</th>\n",
              "      <th>5</th>\n",
              "      <th>6</th>\n",
              "    </tr>\n",
              "  </thead>\n",
              "  <tbody>\n",
              "    <tr>\n",
              "      <th>0</th>\n",
              "      <td>Mn</td>\n",
              "      <td>3.05399</td>\n",
              "      <td>-1.76322</td>\n",
              "      <td>2.09128</td>\n",
              "      <td>0.0</td>\n",
              "      <td>0.0</td>\n",
              "      <td>4.61</td>\n",
              "    </tr>\n",
              "    <tr>\n",
              "      <th>1</th>\n",
              "      <td>Mn</td>\n",
              "      <td>3.05399</td>\n",
              "      <td>1.76322</td>\n",
              "      <td>2.09117</td>\n",
              "      <td>0.0</td>\n",
              "      <td>0.0</td>\n",
              "      <td>-4.61</td>\n",
              "    </tr>\n",
              "    <tr>\n",
              "      <th>2</th>\n",
              "      <td>P</td>\n",
              "      <td>3.05399</td>\n",
              "      <td>-5.28968</td>\n",
              "      <td>3.20163</td>\n",
              "      <td>0.0</td>\n",
              "      <td>0.0</td>\n",
              "      <td>0.50</td>\n",
              "    </tr>\n",
              "    <tr>\n",
              "      <th>3</th>\n",
              "      <td>P</td>\n",
              "      <td>6.10798</td>\n",
              "      <td>0.00000</td>\n",
              "      <td>0.98117</td>\n",
              "      <td>0.0</td>\n",
              "      <td>0.0</td>\n",
              "      <td>0.50</td>\n",
              "    </tr>\n",
              "    <tr>\n",
              "      <th>4</th>\n",
              "      <td>S</td>\n",
              "      <td>5.12423</td>\n",
              "      <td>-1.70385</td>\n",
              "      <td>0.43881</td>\n",
              "      <td>0.0</td>\n",
              "      <td>0.0</td>\n",
              "      <td>0.20</td>\n",
              "    </tr>\n",
              "    <tr>\n",
              "      <th>5</th>\n",
              "      <td>S</td>\n",
              "      <td>2.07030</td>\n",
              "      <td>-3.58581</td>\n",
              "      <td>0.43880</td>\n",
              "      <td>0.0</td>\n",
              "      <td>0.0</td>\n",
              "      <td>-0.20</td>\n",
              "    </tr>\n",
              "    <tr>\n",
              "      <th>6</th>\n",
              "      <td>S</td>\n",
              "      <td>0.98378</td>\n",
              "      <td>1.70391</td>\n",
              "      <td>3.74386</td>\n",
              "      <td>0.0</td>\n",
              "      <td>0.0</td>\n",
              "      <td>0.10</td>\n",
              "    </tr>\n",
              "    <tr>\n",
              "      <th>7</th>\n",
              "      <td>S</td>\n",
              "      <td>4.03772</td>\n",
              "      <td>3.58575</td>\n",
              "      <td>3.74387</td>\n",
              "      <td>0.0</td>\n",
              "      <td>0.0</td>\n",
              "      <td>0.20</td>\n",
              "    </tr>\n",
              "    <tr>\n",
              "      <th>8</th>\n",
              "      <td>S</td>\n",
              "      <td>4.14048</td>\n",
              "      <td>0.00004</td>\n",
              "      <td>3.74388</td>\n",
              "      <td>0.0</td>\n",
              "      <td>0.0</td>\n",
              "      <td>0.10</td>\n",
              "    </tr>\n",
              "    <tr>\n",
              "      <th>9</th>\n",
              "      <td>S</td>\n",
              "      <td>1.96742</td>\n",
              "      <td>-0.00004</td>\n",
              "      <td>0.43879</td>\n",
              "      <td>0.0</td>\n",
              "      <td>0.0</td>\n",
              "      <td>0.62</td>\n",
              "    </tr>\n",
              "  </tbody>\n",
              "</table>\n",
              "</div>"
            ],
            "text/plain": [
              "    0        1        2        3    4    5     6\n",
              "0  Mn  3.05399 -1.76322  2.09128  0.0  0.0  4.61\n",
              "1  Mn  3.05399  1.76322  2.09117  0.0  0.0 -4.61\n",
              "2   P  3.05399 -5.28968  3.20163  0.0  0.0  0.50\n",
              "3   P  6.10798  0.00000  0.98117  0.0  0.0  0.50\n",
              "4   S  5.12423 -1.70385  0.43881  0.0  0.0  0.20\n",
              "5   S  2.07030 -3.58581  0.43880  0.0  0.0 -0.20\n",
              "6   S  0.98378  1.70391  3.74386  0.0  0.0  0.10\n",
              "7   S  4.03772  3.58575  3.74387  0.0  0.0  0.20\n",
              "8   S  4.14048  0.00004  3.74388  0.0  0.0  0.10\n",
              "9   S  1.96742 -0.00004  0.43879  0.0  0.0  0.62"
            ]
          },
          "metadata": {
            "tags": []
          },
          "execution_count": 108
        }
      ]
    },
    {
      "cell_type": "code",
      "metadata": {
        "id": "-t6LpgjEenDH",
        "colab": {
          "base_uri": "https://localhost:8080/",
          "height": 142
        },
        "outputId": "e2eb05e1-7082-4567-e11f-126ee15e1b2f"
      },
      "source": [
        "base"
      ],
      "execution_count": null,
      "outputs": [
        {
          "output_type": "execute_result",
          "data": {
            "text/html": [
              "<div>\n",
              "<style scoped>\n",
              "    .dataframe tbody tr th:only-of-type {\n",
              "        vertical-align: middle;\n",
              "    }\n",
              "\n",
              "    .dataframe tbody tr th {\n",
              "        vertical-align: top;\n",
              "    }\n",
              "\n",
              "    .dataframe thead th {\n",
              "        text-align: right;\n",
              "    }\n",
              "</style>\n",
              "<table border=\"1\" class=\"dataframe\">\n",
              "  <thead>\n",
              "    <tr style=\"text-align: right;\">\n",
              "      <th></th>\n",
              "      <th>0</th>\n",
              "      <th>1</th>\n",
              "      <th>2</th>\n",
              "    </tr>\n",
              "  </thead>\n",
              "  <tbody>\n",
              "    <tr>\n",
              "      <th>0</th>\n",
              "      <td>3.054000000</td>\n",
              "      <td>-5.289683166</td>\n",
              "      <td>0.000000000</td>\n",
              "    </tr>\n",
              "    <tr>\n",
              "      <th>1</th>\n",
              "      <td>3.054000000</td>\n",
              "      <td>5.289683166</td>\n",
              "      <td>0.000000000</td>\n",
              "    </tr>\n",
              "    <tr>\n",
              "      <th>2</th>\n",
              "      <td>0.000000000</td>\n",
              "      <td>0.000000000</td>\n",
              "      <td>20.075760688</td>\n",
              "    </tr>\n",
              "  </tbody>\n",
              "</table>\n",
              "</div>"
            ],
            "text/plain": [
              "             0             1             2\n",
              "0  3.054000000  -5.289683166   0.000000000\n",
              "1  3.054000000   5.289683166   0.000000000\n",
              "2  0.000000000   0.000000000  20.075760688"
            ]
          },
          "metadata": {
            "tags": []
          },
          "execution_count": 95
        }
      ]
    },
    {
      "cell_type": "code",
      "metadata": {
        "id": "uw0grVeOWjtZ",
        "colab": {
          "base_uri": "https://localhost:8080/",
          "height": 248
        },
        "outputId": "04a9a1d0-3a1a-40db-d8ca-2c1dcc25cb1a"
      },
      "source": [
        "import matplotlib.pyplot as plt\n",
        "from mpl_toolkits.mplot3d import Axes3D\n",
        "fig = plt.figure(figsize=(15,10))\n",
        "ax = fig.gca(projection='3d')\n",
        "\n",
        "def map_colors(element):\n",
        "  if element == 'Mn':\n",
        "    return 'red'\n",
        "  elif element == 'P':\n",
        "    return 'blue'\n",
        "  else:\n",
        "    return 'grey'\n",
        "\n",
        "def map_sizes(element):\n",
        "  if element == 'Mn':\n",
        "    return 400\n",
        "  elif element == 'P':\n",
        "    return 200\n",
        "  else:\n",
        "    return 100\n",
        "\n",
        "ax.scatter3D(atoms[1], atoms[2], atoms[3], c=list(map(map_colors, atoms[0])), alpha=1, marker='o', s=list(map(map_sizes, atoms[0])))\n",
        "ax.quiver(atoms[1], atoms[2], atoms[3], atoms[4], atoms[5], atoms[6], length=1, color='black')\n",
        "start_points = [[0,0,0],[0,0,0],[0,0,0]]\n",
        "ax.quiver(start_points[0], start_points[1], start_points[2], base[0], base[1], base[2])\n",
        "ax.margins(x=0, y=-0.25, z=1)"
      ],
      "execution_count": null,
      "outputs": [
        {
          "output_type": "display_data",
          "data": {
            "image/png": "[encoded data removed]",
            "text/plain": [
              "<Figure size 432x288 with 1 Axes>"
            ]
          },
          "metadata": {
            "tags": [],
            "needs_background": "light"
          }
        }
      ]
    },
    {
      "cell_type": "code",
      "metadata": {
        "id": "TZTNrmrMXBFX"
      },
      "source": [
        "a = [1,2,3]\n",
        "b = [x*2 for x in a]"
      ],
      "execution_count": null,
      "outputs": []
    }
  ]
}